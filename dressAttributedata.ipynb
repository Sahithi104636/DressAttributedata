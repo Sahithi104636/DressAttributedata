{
 "cells": [
  {
   "cell_type": "code",
   "execution_count": 8,
   "id": "24175541",
   "metadata": {},
   "outputs": [],
   "source": [
    "import pandas as pd\n",
    "import numpy as np\n",
    "import matplotlib.pyplot as plt\n",
    "%matplotlib inline\n"
   ]
  },
  {
   "cell_type": "code",
   "execution_count": 10,
   "id": "33e6f1bb",
   "metadata": {},
   "outputs": [
    {
     "name": "stdout",
     "output_type": "stream",
     "text": [
      "C:\\Users\\Santhosh\\Downloads\\data sets\n"
     ]
    }
   ],
   "source": [
    "import io\n",
    "%cd \"C:\\Users\\Santhosh\\Downloads\\data sets\""
   ]
  },
  {
   "cell_type": "code",
   "execution_count": 17,
   "id": "a1150bcb",
   "metadata": {},
   "outputs": [],
   "source": [
    "Attributedata=pd.read_csv(\"Attribute dataset (1).csv\")"
   ]
  },
  {
   "cell_type": "code",
   "execution_count": 18,
   "id": "ec8ffa2e",
   "metadata": {},
   "outputs": [
    {
     "name": "stdout",
     "output_type": "stream",
     "text": [
      "<class 'pandas.core.frame.DataFrame'>\n",
      "RangeIndex: 479 entries, 0 to 478\n",
      "Data columns (total 13 columns):\n",
      " #   Column          Non-Null Count  Dtype  \n",
      "---  ------          --------------  -----  \n",
      " 0   Dress_ID        479 non-null    int64  \n",
      " 1   Style           479 non-null    object \n",
      " 2   Price           477 non-null    object \n",
      " 3   Rating          479 non-null    float64\n",
      " 4   Size            479 non-null    object \n",
      " 5   Season          477 non-null    object \n",
      " 6   NeckLine        476 non-null    object \n",
      " 7   SleeveLength    477 non-null    object \n",
      " 8   Material        360 non-null    object \n",
      " 9   FabricType      223 non-null    object \n",
      " 10  Decoration      255 non-null    object \n",
      " 11  Pattern Type    377 non-null    object \n",
      " 12  Recommendation  479 non-null    int64  \n",
      "dtypes: float64(1), int64(2), object(10)\n",
      "memory usage: 48.8+ KB\n"
     ]
    }
   ],
   "source": [
    "Attributedata.info()"
   ]
  },
  {
   "cell_type": "code",
   "execution_count": 20,
   "id": "5fb5fc64",
   "metadata": {},
   "outputs": [
    {
     "data": {
      "text/plain": [
       "FabricType        256\n",
       "Decoration        224\n",
       "Material          119\n",
       "Pattern Type      102\n",
       "NeckLine            3\n",
       "Price               2\n",
       "Season              2\n",
       "SleeveLength        2\n",
       "Dress_ID            0\n",
       "Style               0\n",
       "Rating              0\n",
       "Size                0\n",
       "Recommendation      0\n",
       "dtype: int64"
      ]
     },
     "execution_count": 20,
     "metadata": {},
     "output_type": "execute_result"
    }
   ],
   "source": [
    "Attributedata.isnull().sum().sort_values(ascending=False)"
   ]
  },
  {
   "cell_type": "code",
   "execution_count": 21,
   "id": "bafa11f1",
   "metadata": {},
   "outputs": [
    {
     "data": {
      "text/plain": [
       "count    479.000000\n",
       "mean       3.489353\n",
       "std        2.028941\n",
       "min        0.000000\n",
       "25%        2.000000\n",
       "50%        4.600000\n",
       "75%        4.800000\n",
       "max        5.000000\n",
       "Name: Rating, dtype: float64"
      ]
     },
     "execution_count": 21,
     "metadata": {},
     "output_type": "execute_result"
    }
   ],
   "source": [
    "Attributedata.Rating.describe()"
   ]
  },
  {
   "cell_type": "code",
   "execution_count": 22,
   "id": "0b47d3a8",
   "metadata": {},
   "outputs": [
    {
     "data": {
      "text/plain": [
       "0.0    119\n",
       "4.7     78\n",
       "4.8     55\n",
       "5.0     54\n",
       "4.6     53\n",
       "4.5     31\n",
       "4.4     26\n",
       "4.9     22\n",
       "4.3     17\n",
       "4.0      7\n",
       "4.2      6\n",
       "4.1      5\n",
       "3.7      2\n",
       "3.6      1\n",
       "3.5      1\n",
       "1.0      1\n",
       "3.0      1\n",
       "Name: Rating, dtype: int64"
      ]
     },
     "execution_count": 22,
     "metadata": {},
     "output_type": "execute_result"
    }
   ],
   "source": [
    "Attributedata.Rating.value_counts()"
   ]
  },
  {
   "cell_type": "code",
   "execution_count": 24,
   "id": "bd59bb00",
   "metadata": {},
   "outputs": [
    {
     "data": {
      "text/plain": [
       "count    479.000000\n",
       "mean       0.427975\n",
       "std        0.495302\n",
       "min        0.000000\n",
       "25%        0.000000\n",
       "50%        0.000000\n",
       "75%        1.000000\n",
       "max        1.000000\n",
       "Name: Recommendation, dtype: float64"
      ]
     },
     "execution_count": 24,
     "metadata": {},
     "output_type": "execute_result"
    }
   ],
   "source": [
    "Attributedata.Recommendation.describe()"
   ]
  },
  {
   "cell_type": "code",
   "execution_count": 38,
   "id": "5d42b470",
   "metadata": {},
   "outputs": [],
   "source": [
    "Attributedata.Style=Attributedata.Style.replace('sexy','Sexy')"
   ]
  },
  {
   "cell_type": "code",
   "execution_count": 26,
   "id": "32f16af9",
   "metadata": {},
   "outputs": [],
   "source": [
    "Attributedata.Style=Attributedata.Style.replace([\"small\",\"s\"],\"s\")"
   ]
  },
  {
   "cell_type": "code",
   "execution_count": 39,
   "id": "a19dcc67",
   "metadata": {},
   "outputs": [
    {
     "data": {
      "text/plain": [
       "NotAvailable    256\n",
       "chiffon         137\n",
       "broadcloth       29\n",
       "worsted          18\n",
       "jersey           12\n",
       "sattin            7\n",
       "wollen            3\n",
       "flannel           2\n",
       "batik             2\n",
       "poplin            2\n",
       "knitting          2\n",
       "tulle             2\n",
       "Corduroy          2\n",
       "other             1\n",
       "dobby             1\n",
       "organza           1\n",
       "lace              1\n",
       "terry             1\n",
       "Name: FabricType, dtype: int64"
      ]
     },
     "execution_count": 39,
     "metadata": {},
     "output_type": "execute_result"
    }
   ],
   "source": [
    "Attributedata.FabricType.value_counts(dropna=False)"
   ]
  },
  {
   "cell_type": "code",
   "execution_count": 28,
   "id": "08b6eb59",
   "metadata": {},
   "outputs": [],
   "source": [
    "Attributedata.FabricType=Attributedata.FabricType.fillna(\"NotAvailable\")"
   ]
  },
  {
   "cell_type": "code",
   "execution_count": 30,
   "id": "a6ef8c08",
   "metadata": {},
   "outputs": [],
   "source": [
    "\n",
    "Attributedata.FabricType=Attributedata.FabricType.replace(\"shiffon\",\"chiffon\")\n"
   ]
  },
  {
   "cell_type": "code",
   "execution_count": 31,
   "id": "9d885b56",
   "metadata": {},
   "outputs": [],
   "source": [
    "Attributedata.FabricType=Attributedata.FabricType.replace(\"flannael\",\"flannel\")\n"
   ]
  },
  {
   "cell_type": "code",
   "execution_count": 32,
   "id": "823081b9",
   "metadata": {},
   "outputs": [],
   "source": [
    "Attributedata.FabricType=Attributedata.FabricType.replace(\"knitted\",\"knitting\")"
   ]
  },
  {
   "cell_type": "code",
   "execution_count": 33,
   "id": "aecaa49b",
   "metadata": {},
   "outputs": [],
   "source": [
    "Attributedata.FabricType=Attributedata.FabricType.replace(\"satin\",\"sattin\")"
   ]
  },
  {
   "cell_type": "code",
   "execution_count": 34,
   "id": "8dccaf20",
   "metadata": {},
   "outputs": [],
   "source": [
    "Attributedata.FabricType=Attributedata.FabricType.replace(\"woolen\",\"wollen\")\n"
   ]
  },
  {
   "cell_type": "code",
   "execution_count": 40,
   "id": "23f49bfd",
   "metadata": {},
   "outputs": [
    {
     "data": {
      "text/plain": [
       "NotAvailable    224\n",
       "lace             67\n",
       "sashes           41\n",
       "beading          22\n",
       "hollowout        21\n",
       "applique         20\n",
       "ruffles          17\n",
       "bow              14\n",
       "sequined         13\n",
       "pockets           5\n",
       "button            5\n",
       "embroidary        5\n",
       "flowers           4\n",
       "rivet             3\n",
       "crystal           3\n",
       "ruched            3\n",
       "feathers          2\n",
       "plain             2\n",
       "draped            2\n",
       "tassel            1\n",
       "cascading         1\n",
       "Tiered            1\n",
       "pleat             1\n",
       "pearls            1\n",
       "none              1\n",
       "Name: Decoration, dtype: int64"
      ]
     },
     "execution_count": 40,
     "metadata": {},
     "output_type": "execute_result"
    }
   ],
   "source": [
    "Attributedata.Decoration.value_counts(dropna=False)"
   ]
  },
  {
   "cell_type": "code",
   "execution_count": 41,
   "id": "7b263f9e",
   "metadata": {},
   "outputs": [],
   "source": [
    "Attributedata.Decoration=Attributedata.Decoration.fillna(\"NotAvailable\")\n"
   ]
  },
  {
   "cell_type": "code",
   "execution_count": 42,
   "id": "f497d455",
   "metadata": {},
   "outputs": [
    {
     "data": {
      "text/plain": [
       "cotton           148\n",
       "NaN              119\n",
       "polyster          93\n",
       "silk              26\n",
       "chiffonfabric     24\n",
       "mix               12\n",
       "nylon             10\n",
       "rayon             10\n",
       "milksilk           5\n",
       "spandex            5\n",
       "cashmere           4\n",
       "acrylic            3\n",
       "lycra              3\n",
       "microfiber         3\n",
       "linen              3\n",
       "other              2\n",
       "viscos             2\n",
       "shiffon            2\n",
       "lace               1\n",
       "modal              1\n",
       "sill               1\n",
       "wool               1\n",
       "model              1\n",
       "Name: Material, dtype: int64"
      ]
     },
     "execution_count": 42,
     "metadata": {},
     "output_type": "execute_result"
    }
   ],
   "source": [
    "Attributedata.Material.value_counts(dropna=False)\n"
   ]
  },
  {
   "cell_type": "code",
   "execution_count": 43,
   "id": "22e7fd6c",
   "metadata": {},
   "outputs": [],
   "source": [
    "Attributedata.Material=Attributedata.Material.fillna(\"NotAvailable\")\n"
   ]
  },
  {
   "cell_type": "code",
   "execution_count": 44,
   "id": "49a29f4b",
   "metadata": {},
   "outputs": [],
   "source": [
    "Attributedata.Material=Attributedata.Material.replace(\"modal\",\"model\")\n"
   ]
  },
  {
   "cell_type": "code",
   "execution_count": 45,
   "id": "ed76c0a4",
   "metadata": {},
   "outputs": [],
   "source": [
    "Attributedata.Material=Attributedata.Material.replace(\"sill\",\"silk\")\n"
   ]
  },
  {
   "cell_type": "code",
   "execution_count": 46,
   "id": "b1ff2715",
   "metadata": {},
   "outputs": [],
   "source": [
    "Attributedata.Material=Attributedata.Material.replace(\"shiffon\",\"chiffonfabric\")\n"
   ]
  },
  {
   "cell_type": "code",
   "execution_count": 47,
   "id": "3f460aff",
   "metadata": {},
   "outputs": [
    {
     "data": {
      "text/plain": [
       "solid        199\n",
       "NaN          102\n",
       "print         67\n",
       "patchwork     47\n",
       "animal        19\n",
       "striped       15\n",
       "dot           13\n",
       "geometric      5\n",
       "plaid          3\n",
       "leopard        3\n",
       "floral         2\n",
       "character      1\n",
       "splice         1\n",
       "leapord        1\n",
       "none           1\n",
       "Name: Pattern Type, dtype: int64"
      ]
     },
     "execution_count": 47,
     "metadata": {},
     "output_type": "execute_result"
    }
   ],
   "source": [
    "Attributedata['Pattern Type'].value_counts(dropna=False)\n"
   ]
  },
  {
   "cell_type": "code",
   "execution_count": 48,
   "id": "9abec281",
   "metadata": {},
   "outputs": [],
   "source": [
    "Attributedata['Pattern Type']=Attributedata['Pattern Type'].fillna(\"NotAvailable\")\n"
   ]
  },
  {
   "cell_type": "code",
   "execution_count": 49,
   "id": "4e0da01a",
   "metadata": {},
   "outputs": [],
   "source": [
    "Attributedata['Pattern Type']=Attributedata['Pattern Type'].replace(\"leapord\",\"leopard\")\n"
   ]
  },
  {
   "cell_type": "code",
   "execution_count": 50,
   "id": "3f506a31",
   "metadata": {},
   "outputs": [],
   "source": [
    "Attributedata['Pattern Type']=Attributedata['Pattern Type'].replace(\"none\",\"NotAvailable\")\n"
   ]
  },
  {
   "cell_type": "code",
   "execution_count": 51,
   "id": "d3c41521",
   "metadata": {},
   "outputs": [
    {
     "data": {
      "text/plain": [
       "o-neck             257\n",
       "v-neck             119\n",
       "slash-neck          25\n",
       "boat-neck           18\n",
       "Sweetheart          14\n",
       "turndowncollor      13\n",
       "bowneck             10\n",
       "sqare-collor         5\n",
       "peterpan-collor      5\n",
       "NaN                  3\n",
       "open                 3\n",
       "Scoop                2\n",
       "mandarin-collor      1\n",
       "ruffled              1\n",
       "sweetheart           1\n",
       "halter               1\n",
       "backless             1\n",
       "Name: NeckLine, dtype: int64"
      ]
     },
     "execution_count": 51,
     "metadata": {},
     "output_type": "execute_result"
    }
   ],
   "source": [
    "Attributedata.NeckLine.value_counts(dropna=False)\n"
   ]
  },
  {
   "cell_type": "code",
   "execution_count": 52,
   "id": "c0b4baec",
   "metadata": {},
   "outputs": [],
   "source": [
    "Attributedata.NeckLine=Attributedata.NeckLine.replace([\"sweetheart\"],\"Sweetheart\")\n"
   ]
  },
  {
   "cell_type": "code",
   "execution_count": 53,
   "id": "e425e94d",
   "metadata": {},
   "outputs": [],
   "source": [
    "Attributedata.NeckLine=Attributedata.NeckLine.fillna(\"o-neck\")\n"
   ]
  },
  {
   "cell_type": "code",
   "execution_count": 54,
   "id": "6d1ac2d4",
   "metadata": {},
   "outputs": [
    {
     "data": {
      "text/plain": [
       "Average      240\n",
       "Low          165\n",
       "Medium        30\n",
       "High          21\n",
       "very-high     21\n",
       "NaN            2\n",
       "Name: Price, dtype: int64"
      ]
     },
     "execution_count": 54,
     "metadata": {},
     "output_type": "execute_result"
    }
   ],
   "source": [
    "Attributedata.Price.value_counts(dropna=False)\n"
   ]
  },
  {
   "cell_type": "code",
   "execution_count": 55,
   "id": "fb3e24ec",
   "metadata": {},
   "outputs": [],
   "source": [
    "Attributedata.Price=Attributedata.Price.fillna('Average')\n"
   ]
  },
  {
   "cell_type": "code",
   "execution_count": 56,
   "id": "12fe916f",
   "metadata": {},
   "outputs": [
    {
     "data": {
      "text/plain": [
       "Summer    154\n",
       "Spring    116\n",
       "Winter     94\n",
       "Automn     59\n",
       "winter     45\n",
       "Autumn      7\n",
       "spring      2\n",
       "NaN         2\n",
       "Name: Season, dtype: int64"
      ]
     },
     "execution_count": 56,
     "metadata": {},
     "output_type": "execute_result"
    }
   ],
   "source": [
    "Attributedata.Season.value_counts(dropna=False)\n"
   ]
  },
  {
   "cell_type": "code",
   "execution_count": 57,
   "id": "8a342c2e",
   "metadata": {},
   "outputs": [],
   "source": [
    "Attributedata.Season=Attributedata.Season.replace([\"Automn\"],\"Autumn\")\n"
   ]
  },
  {
   "cell_type": "code",
   "execution_count": 58,
   "id": "04e7f4e7",
   "metadata": {},
   "outputs": [],
   "source": [
    "Attributedata.Season=Attributedata.Season.replace([\"winter\"],\"Winter\")\n"
   ]
  },
  {
   "cell_type": "code",
   "execution_count": 59,
   "id": "64026082",
   "metadata": {},
   "outputs": [],
   "source": [
    "Attributedata.Season=Attributedata.Season.replace([\"spring\"],\"Spring\")\n"
   ]
  },
  {
   "cell_type": "code",
   "execution_count": 60,
   "id": "f93ff15f",
   "metadata": {},
   "outputs": [],
   "source": [
    "Attributedata.Season=Attributedata.Season.fillna('Summer')\n"
   ]
  },
  {
   "cell_type": "code",
   "execution_count": 61,
   "id": "85603b43",
   "metadata": {},
   "outputs": [],
   "source": [
    "Attributedata.Season=Attributedata.Season.fillna('Summer')\n"
   ]
  },
  {
   "cell_type": "code",
   "execution_count": 62,
   "id": "16a63b89",
   "metadata": {},
   "outputs": [
    {
     "data": {
      "text/plain": [
       "sleevless         216\n",
       "full               94\n",
       "short              92\n",
       "halfsleeve         32\n",
       "threequarter       17\n",
       "thressqatar         8\n",
       "sleeveless          4\n",
       "capsleeves          3\n",
       "NaN                 2\n",
       "cap-sleeves         2\n",
       "sleeevless          2\n",
       "half                1\n",
       "urndowncollor       1\n",
       "threequater         1\n",
       "Petal               1\n",
       "turndowncollor      1\n",
       "butterfly           1\n",
       "sleveless           1\n",
       "Name: SleeveLength, dtype: int64"
      ]
     },
     "execution_count": 62,
     "metadata": {},
     "output_type": "execute_result"
    }
   ],
   "source": [
    "Attributedata.SleeveLength.value_counts(dropna=False)\n"
   ]
  },
  {
   "cell_type": "code",
   "execution_count": 63,
   "id": "04d7548a",
   "metadata": {},
   "outputs": [],
   "source": [
    "Attributedata.SleeveLength=Attributedata.SleeveLength.replace([\"sleeveless\",\"sleveless\",\"sleeevless\"],\"sleevless\")\n"
   ]
  },
  {
   "cell_type": "code",
   "execution_count": 64,
   "id": "590dcef2",
   "metadata": {},
   "outputs": [],
   "source": [
    "Attributedata.SleeveLength=Attributedata.SleeveLength.replace([\"thressqatar\",\"threequater\"],\"threequarter\")\n"
   ]
  },
  {
   "cell_type": "code",
   "execution_count": 65,
   "id": "3b79f75c",
   "metadata": {},
   "outputs": [],
   "source": [
    "Attributedata.SleeveLength=Attributedata.SleeveLength.replace([\"capsleeves\",\"cap-sleeves\"],\"halfsleeve\")\n"
   ]
  },
  {
   "cell_type": "code",
   "execution_count": 66,
   "id": "3bdb6140",
   "metadata": {},
   "outputs": [],
   "source": [
    "Attributedata.SleeveLength=Attributedata.SleeveLength.replace([\"Petal\",],\"butterfly\")\n"
   ]
  },
  {
   "cell_type": "code",
   "execution_count": 67,
   "id": "bafc184b",
   "metadata": {},
   "outputs": [],
   "source": [
    "Attributedata.SleeveLength=Attributedata.SleeveLength.replace([\"urndowncollor\",],\"turndowncollor\")\n"
   ]
  },
  {
   "cell_type": "code",
   "execution_count": 68,
   "id": "bcb4d62b",
   "metadata": {},
   "outputs": [],
   "source": [
    "Attributedata.SleeveLength=Attributedata.SleeveLength.fillna('sleevless')\n"
   ]
  },
  {
   "cell_type": "code",
   "execution_count": 72,
   "id": "82148c7b",
   "metadata": {},
   "outputs": [
    {
     "data": {
      "text/html": [
       "<div>\n",
       "<style scoped>\n",
       "    .dataframe tbody tr th:only-of-type {\n",
       "        vertical-align: middle;\n",
       "    }\n",
       "\n",
       "    .dataframe tbody tr th {\n",
       "        vertical-align: top;\n",
       "    }\n",
       "\n",
       "    .dataframe thead th {\n",
       "        text-align: right;\n",
       "    }\n",
       "</style>\n",
       "<table border=\"1\" class=\"dataframe\">\n",
       "  <thead>\n",
       "    <tr style=\"text-align: right;\">\n",
       "      <th>Price</th>\n",
       "      <th>Average</th>\n",
       "      <th>High</th>\n",
       "      <th>Low</th>\n",
       "      <th>Medium</th>\n",
       "      <th>very-high</th>\n",
       "    </tr>\n",
       "    <tr>\n",
       "      <th>Recommendation</th>\n",
       "      <th></th>\n",
       "      <th></th>\n",
       "      <th></th>\n",
       "      <th></th>\n",
       "      <th></th>\n",
       "    </tr>\n",
       "  </thead>\n",
       "  <tbody>\n",
       "    <tr>\n",
       "      <th>0</th>\n",
       "      <td>152</td>\n",
       "      <td>12</td>\n",
       "      <td>94</td>\n",
       "      <td>11</td>\n",
       "      <td>5</td>\n",
       "    </tr>\n",
       "    <tr>\n",
       "      <th>1</th>\n",
       "      <td>90</td>\n",
       "      <td>9</td>\n",
       "      <td>71</td>\n",
       "      <td>19</td>\n",
       "      <td>16</td>\n",
       "    </tr>\n",
       "  </tbody>\n",
       "</table>\n",
       "</div>"
      ],
      "text/plain": [
       "Price           Average  High  Low  Medium  very-high\n",
       "Recommendation                                       \n",
       "0                   152    12   94      11          5\n",
       "1                    90     9   71      19         16"
      ]
     },
     "execution_count": 72,
     "metadata": {},
     "output_type": "execute_result"
    }
   ],
   "source": [
    "# Test no null association between reccomanadation and price\n",
    "pd.crosstab(Attributedata.Recommendation,Attributedata.Price)\n"
   ]
  },
  {
   "cell_type": "code",
   "execution_count": 73,
   "id": "7cc7b8eb",
   "metadata": {},
   "outputs": [],
   "source": [
    "from scipy.stats import chi2_contingency\n"
   ]
  },
  {
   "cell_type": "code",
   "execution_count": 75,
   "id": "6c7b5611",
   "metadata": {},
   "outputs": [
    {
     "data": {
      "text/plain": [
       "(17.845001957920374,\n",
       " 0.001323208282027842,\n",
       " 4,\n",
       " array([[138.43006263,  12.0125261 ,  94.38413361,  17.16075157,\n",
       "          12.0125261 ],\n",
       "        [103.56993737,   8.9874739 ,  70.61586639,  12.83924843,\n",
       "           8.9874739 ]]))"
      ]
     },
     "execution_count": 75,
     "metadata": {},
     "output_type": "execute_result"
    }
   ],
   "source": [
    "chi2_contingency(pd.crosstab(Attributedata.Recommendation,Attributedata.Price))\n",
    "#p value is less than 0.05 so it will reject the null"
   ]
  },
  {
   "cell_type": "code",
   "execution_count": 77,
   "id": "3d0720af",
   "metadata": {},
   "outputs": [
    {
     "data": {
      "text/html": [
       "<div>\n",
       "<style scoped>\n",
       "    .dataframe tbody tr th:only-of-type {\n",
       "        vertical-align: middle;\n",
       "    }\n",
       "\n",
       "    .dataframe tbody tr th {\n",
       "        vertical-align: top;\n",
       "    }\n",
       "\n",
       "    .dataframe thead th {\n",
       "        text-align: right;\n",
       "    }\n",
       "</style>\n",
       "<table border=\"1\" class=\"dataframe\">\n",
       "  <thead>\n",
       "    <tr style=\"text-align: right;\">\n",
       "      <th>Season</th>\n",
       "      <th>Autumn</th>\n",
       "      <th>Spring</th>\n",
       "      <th>Summer</th>\n",
       "      <th>Winter</th>\n",
       "    </tr>\n",
       "    <tr>\n",
       "      <th>Recommendation</th>\n",
       "      <th></th>\n",
       "      <th></th>\n",
       "      <th></th>\n",
       "      <th></th>\n",
       "    </tr>\n",
       "  </thead>\n",
       "  <tbody>\n",
       "    <tr>\n",
       "      <th>0</th>\n",
       "      <td>44</td>\n",
       "      <td>47</td>\n",
       "      <td>102</td>\n",
       "      <td>81</td>\n",
       "    </tr>\n",
       "    <tr>\n",
       "      <th>1</th>\n",
       "      <td>22</td>\n",
       "      <td>71</td>\n",
       "      <td>54</td>\n",
       "      <td>58</td>\n",
       "    </tr>\n",
       "  </tbody>\n",
       "</table>\n",
       "</div>"
      ],
      "text/plain": [
       "Season          Autumn  Spring  Summer  Winter\n",
       "Recommendation                                \n",
       "0                   44      47     102      81\n",
       "1                   22      71      54      58"
      ]
     },
     "execution_count": 77,
     "metadata": {},
     "output_type": "execute_result"
    }
   ],
   "source": [
    "# Test no null association between reccomanadation and seasone\n",
    "pd.crosstab(Attributedata.Recommendation,Attributedata.Season)\n"
   ]
  },
  {
   "cell_type": "code",
   "execution_count": 79,
   "id": "afb71166",
   "metadata": {},
   "outputs": [
    {
     "data": {
      "text/plain": [
       "(21.292037210424134,\n",
       " 9.155121262194503e-05,\n",
       " 3,\n",
       " array([[37.75365344, 67.49895616, 89.23590814, 79.51148225],\n",
       "        [28.24634656, 50.50104384, 66.76409186, 59.48851775]]))"
      ]
     },
     "execution_count": 79,
     "metadata": {},
     "output_type": "execute_result"
    }
   ],
   "source": [
    "chi2_contingency(pd.crosstab(Attributedata.Recommendation,Attributedata.Season))\n",
    "# p value is less than 0.05 so reject null\n"
   ]
  },
  {
   "cell_type": "code",
   "execution_count": 80,
   "id": "bb866832",
   "metadata": {},
   "outputs": [
    {
     "data": {
      "text/plain": [
       "Recommendation\n",
       "0    3.405474\n",
       "1    3.601463\n",
       "Name: Rating, dtype: float64"
      ]
     },
     "execution_count": 80,
     "metadata": {},
     "output_type": "execute_result"
    }
   ],
   "source": [
    "# test null average rating of Reccomandatinon 0/1 is equal\n",
    "Attributedata.Rating.groupby(Attributedata.Recommendation).mean()\n"
   ]
  },
  {
   "cell_type": "code",
   "execution_count": 81,
   "id": "528be085",
   "metadata": {},
   "outputs": [
    {
     "data": {
      "text/plain": [
       "Recommendation\n",
       "0    4.253193\n",
       "1    3.931910\n",
       "Name: Rating, dtype: float64"
      ]
     },
     "execution_count": 81,
     "metadata": {},
     "output_type": "execute_result"
    }
   ],
   "source": [
    "Attributedata.Rating.groupby(Attributedata.Recommendation).var()\n"
   ]
  },
  {
   "cell_type": "code",
   "execution_count": 82,
   "id": "7b7aa8b2",
   "metadata": {},
   "outputs": [],
   "source": [
    "recommend0=Attributedata[Attributedata.Recommendation==0]\n",
    "recommend1=Attributedata[Attributedata.Recommendation==1]"
   ]
  },
  {
   "cell_type": "code",
   "execution_count": 83,
   "id": "99c835ac",
   "metadata": {},
   "outputs": [
    {
     "name": "stdout",
     "output_type": "stream",
     "text": [
      "(274, 13)\n",
      "(205, 13)\n"
     ]
    }
   ],
   "source": [
    "print(recommend0.shape)\n",
    "print(recommend1.shape)"
   ]
  },
  {
   "cell_type": "code",
   "execution_count": 84,
   "id": "b5b6a28d",
   "metadata": {},
   "outputs": [],
   "source": [
    "from scipy.stats import ttest_ind\n"
   ]
  },
  {
   "cell_type": "code",
   "execution_count": 85,
   "id": "56090cff",
   "metadata": {},
   "outputs": [
    {
     "data": {
      "text/plain": [
       "Ttest_indResult(statistic=-1.052083695794725, pvalue=0.29332782204848495)"
      ]
     },
     "execution_count": 85,
     "metadata": {},
     "output_type": "execute_result"
    }
   ],
   "source": [
    "ttest_ind(recommend0.Rating,recommend1.Rating,equal_var=False)\n",
    "# P value is greatre than 0.05 so it will fail to rejct null hypothesis"
   ]
  },
  {
   "cell_type": "code",
   "execution_count": null,
   "id": "20891cbc",
   "metadata": {},
   "outputs": [],
   "source": []
  }
 ],
 "metadata": {
  "kernelspec": {
   "display_name": "Python 3 (ipykernel)",
   "language": "python",
   "name": "python3"
  },
  "language_info": {
   "codemirror_mode": {
    "name": "ipython",
    "version": 3
   },
   "file_extension": ".py",
   "mimetype": "text/x-python",
   "name": "python",
   "nbconvert_exporter": "python",
   "pygments_lexer": "ipython3",
   "version": "3.9.15"
  }
 },
 "nbformat": 4,
 "nbformat_minor": 5
}
